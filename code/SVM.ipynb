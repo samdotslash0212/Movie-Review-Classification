{
  "cells": [
    {
      "cell_type": "markdown",
      "metadata": {
        "id": "P_2_tkkRygUx"
      },
      "source": [
        "# **IMPORTING LIBRARIES**"
      ]
    },
    {
      "cell_type": "code",
      "execution_count": null,
      "metadata": {
        "id": "oxi0-dftZKIt"
      },
      "outputs": [],
      "source": [
        "import pandas as pd\n",
        "import numpy as np\n",
        "from sklearn.feature_extraction.text import TfidfVectorizer\n",
        "from sklearn.ensemble import IsolationForest\n",
        "from sklearn.model_selection import KFold\n",
        "from sklearn.model_selection import train_test_split\n",
        "import itertools\n",
        "from sklearn.svm import SVC"
      ]
    },
    {
      "cell_type": "markdown",
      "metadata": {
        "id": "86bS391wwhsI"
      },
      "source": [
        "# **LOADING DATASET**"
      ]
    },
    {
      "cell_type": "code",
      "execution_count": null,
      "metadata": {
        "colab": {
          "base_uri": "https://localhost:8080/"
        },
        "id": "_RvI0WEmbLgE",
        "outputId": "f010dba9-9c75-4c89-9f3a-09c0722c6e17"
      },
      "outputs": [
        {
          "name": "stdout",
          "output_type": "stream",
          "text": [
            "Drive already mounted at /content/drive; to attempt to forcibly remount, call drive.mount(\"/content/drive\", force_remount=True).\n"
          ]
        }
      ],
      "source": [
        "from google.colab import drive\n",
        "drive.mount('/content/drive')"
      ]
    },
    {
      "cell_type": "code",
      "execution_count": null,
      "metadata": {
        "colab": {
          "base_uri": "https://localhost:8080/"
        },
        "id": "K6J_-lgzaZEE",
        "outputId": "3b66e1fd-a9d2-47ad-efc9-b86a8068f3be"
      },
      "outputs": [
        {
          "name": "stdout",
          "output_type": "stream",
          "text": [
            "(10000,)\n"
          ]
        }
      ],
      "source": [
        "names = ['index','review', 'sentiment', 'label']\n",
        "df = pd.read_csv('/content/drive/MyDrive/imdb/train_data.csv', sep=',', names=names, header=0)\n",
        "#df_val = pd.read_csv('val.csv', sep=',', names=names, header=0)\n",
        "#df=pd.concat((df_train, df_val))\n",
        "df.dropna(how='any', inplace=True)\n",
        "df.reset_index(drop=True, inplace=True)\n",
        "df[\"review\"] = df['review'].values.astype('U')\n",
        "X = df['review'].to_numpy()\n",
        "Y = df['label'].to_numpy()\n",
        "print(X.shape)"
      ]
    },
    {
      "cell_type": "code",
      "execution_count": null,
      "metadata": {
        "id": "0v_NvSo1fuJE"
      },
      "outputs": [],
      "source": [
        "X_tr, X_val, Y_tr, Y_val = train_test_split(X, Y, test_size=0.25, random_state=0)"
      ]
    },
    {
      "cell_type": "markdown",
      "metadata": {
        "id": "oANxcdB0yO1F"
      },
      "source": [
        "# **VECTORIZING DATASET**"
      ]
    },
    {
      "cell_type": "code",
      "execution_count": null,
      "metadata": {
        "colab": {
          "base_uri": "https://localhost:8080/"
        },
        "id": "JU14U_cWak_A",
        "outputId": "38b83da7-96c2-4803-e847-bbc9a3598b98"
      },
      "outputs": [
        {
          "name": "stdout",
          "output_type": "stream",
          "text": [
            "X shape is (10000,)\n"
          ]
        }
      ],
      "source": [
        "MAX_FEATURES = 10000\n",
        "tfidf = TfidfVectorizer(max_features = MAX_FEATURES)\n",
        "tfidf.fit(X_tr)\n",
        "X_train = tfidf.transform(X_tr)\n",
        "X_train = X_train.todense()\n",
        "X_tr=X_train\n",
        "\n",
        "\n",
        "X_val=tfidf.transform(X_val)\n",
        "X_val=X_val.todense()\n"
      ]
    },
    {
      "cell_type": "markdown",
      "metadata": {
        "id": "vlJtjU_GyHFC"
      },
      "source": [
        "# **REMOVING OUTLIERS**"
      ]
    },
    {
      "cell_type": "code",
      "execution_count": null,
      "metadata": {
        "id": "XsYLuFiKan6S"
      },
      "outputs": [],
      "source": [
        "X_tr=np.array(X_tr)\n",
        "Y_tr=np.array(Y_tr)"
      ]
    },
    {
      "cell_type": "code",
      "execution_count": null,
      "metadata": {
        "id": "t7OU5fKparFD"
      },
      "outputs": [],
      "source": [
        "clf_Iso = IsolationForest(random_state=np.random.RandomState(0),n_jobs = -1)\n",
        "clf_Iso.fit(X_tr)\n",
        "Y_Iso_Forest = clf_Iso.predict(X_tr)\n",
        "result = np.where(Y_Iso_Forest == -1)\n",
        "result = list(itertools.chain.from_iterable(result))"
      ]
    },
    {
      "cell_type": "code",
      "execution_count": null,
      "metadata": {
        "id": "vT0u44jtawTW"
      },
      "outputs": [],
      "source": [
        "X_removed = np.delete(X_tr,result,axis = 0)\n",
        "if Y_tr is None:\n",
        "    X_train=X_removed\n",
        "else:\n",
        "    Y_removed = np.delete(Y_tr,result,axis = 0)\n",
        "X_tr=X_removed\n",
        "Y_tr=Y_removed"
      ]
    },
    {
      "cell_type": "code",
      "execution_count": null,
      "metadata": {
        "colab": {
          "base_uri": "https://localhost:8080/"
        },
        "id": "mjRlcxnlaxOR",
        "outputId": "9dd72a0a-ea87-430c-c041-c5142c8e0405"
      },
      "outputs": [
        {
          "name": "stdout",
          "output_type": "stream",
          "text": [
            "(7500, 10000) (7500,)\n"
          ]
        }
      ],
      "source": [
        "print(X_tr.shape, Y_tr.shape)"
      ]
    },
    {
      "cell_type": "markdown",
      "metadata": {
        "id": "iA_dh1Xix1VS"
      },
      "source": [
        "# **TRAINING SVM MODEL**"
      ]
    },
    {
      "cell_type": "markdown",
      "source": [
        ""
      ],
      "metadata": {
        "id": "cDcrlbzW1qw7"
      }
    },
    {
      "cell_type": "code",
      "execution_count": null,
      "metadata": {
        "colab": {
          "base_uri": "https://localhost:8080/"
        },
        "id": "QftQbYTua0O8",
        "outputId": "9157238e-1ed8-4de6-cc85-48583c77bd54"
      },
      "outputs": [
        {
          "output_type": "stream",
          "name": "stdout",
          "text": [
            "----Start Evaluating----\n",
            "Testing Accuracy: 0.8853333333333333\n",
            "----Start Evaluating----\n",
            "Testing Accuracy: 0.884\n",
            "----Start Evaluating----\n",
            "Testing Accuracy: 0.884\n",
            "----Start Evaluating----\n",
            "Testing Accuracy: 0.844\n",
            "----Start Evaluating----\n",
            "Testing Accuracy: 0.8706666666666667\n",
            "----Start Evaluating----\n",
            "Testing Accuracy: 0.884\n",
            "----Start Evaluating----\n",
            "Testing Accuracy: 0.8906666666666667\n",
            "----Start Evaluating----\n",
            "Testing Accuracy: 0.848\n",
            "----Start Evaluating----\n",
            "Testing Accuracy: 0.8653333333333333\n",
            "----Start Evaluating----\n",
            "Testing Accuracy: 0.8533333333333334\n",
            "Mean testing accuracy: 0.8709333333333333\n"
          ]
        }
      ],
      "source": [
        "kf = KFold(n_splits=10)\n",
        "svm = SVC(C=1, kernel='rbf')\n",
        "acc_list = []\n",
        "for train_index, test_index in kf.split(X_tr):\n",
        "    X_train, X_test = X_tr[train_index], X_tr[test_index]\n",
        "    Y_train, Y_test = Y_tr[train_index], Y_tr[test_index]\n",
        "    svm.fit(X_train, Y_train)\n",
        "    print(\"----Start Evaluating----\")\n",
        "    acc = svm.score(X_test, Y_test)\n",
        "    acc_list.append(acc)\n",
        "    print(\"Testing Accuracy:\", acc)\n",
        "print(\"Mean testing accuracy:\", sum(acc_list) / len(acc_list))"
      ]
    },
    {
      "cell_type": "markdown",
      "metadata": {
        "id": "4UrDUPooxty1"
      },
      "source": [
        "# **VALIDATING MODEL**"
      ]
    },
    {
      "cell_type": "code",
      "execution_count": null,
      "metadata": {
        "colab": {
          "base_uri": "https://localhost:8080/"
        },
        "id": "AodWflHba34R",
        "outputId": "b3e4a37b-2ea7-48dd-c1e3-e3803a7113af"
      },
      "outputs": [
        {
          "name": "stdout",
          "output_type": "stream",
          "text": [
            "(2500, 10000)\n"
          ]
        },
        {
          "name": "stderr",
          "output_type": "stream",
          "text": [
            "/usr/local/lib/python3.7/dist-packages/sklearn/utils/validation.py:598: FutureWarning: np.matrix usage is deprecated in 1.0 and will raise a TypeError in 1.2. Please convert to a numpy array with np.asarray. For more information see: https://numpy.org/doc/stable/reference/generated/numpy.matrix.html\n",
            "  FutureWarning,\n"
          ]
        },
        {
          "name": "stdout",
          "output_type": "stream",
          "text": [
            "Validation accuracy: 0.8568\n"
          ]
        }
      ],
      "source": [
        "acc_val = svm.score(X_val, Y_val)\n",
        "print('Validation accuracy:', acc_val)"
      ]
    }
  ],
  "metadata": {
    "colab": {
      "name": "SVM.ipynb",
      "provenance": [],
      "collapsed_sections": [],
      "authorship_tag": "ABX9TyOgCGcVOKJV6gW+Eto3xOhZ"
    },
    "kernelspec": {
      "display_name": "Python 3",
      "name": "python3"
    },
    "language_info": {
      "name": "python"
    }
  },
  "nbformat": 4,
  "nbformat_minor": 0
}
