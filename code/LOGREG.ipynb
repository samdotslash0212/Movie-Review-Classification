{
  "nbformat": 4,
  "nbformat_minor": 0,
  "metadata": {
    "colab": {
      "name": "LOGREG.ipynb",
      "provenance": [],
      "collapsed_sections": [],
      "authorship_tag": "ABX9TyMVoCJZdu/qMcYuXEGY8wbR"
    },
    "kernelspec": {
      "name": "python3",
      "display_name": "Python 3"
    },
    "language_info": {
      "name": "python"
    }
  },
  "cells": [
    {
      "cell_type": "code",
      "execution_count": null,
      "metadata": {
        "id": "TMntC6e4CJAC"
      },
      "outputs": [],
      "source": [
        "import pandas as pd\n",
        "import numpy as np\n",
        "from sklearn.feature_extraction.text import CountVectorizer\n",
        "from sklearn.model_selection import train_test_split\n",
        "from sklearn.ensemble import IsolationForest\n",
        "from sklearn.model_selection import KFold\n",
        "import itertools\n",
        "from sklearn.linear_model import LogisticRegression"
      ]
    },
    {
      "cell_type": "markdown",
      "source": [
        "# **LOADING DATASET**"
      ],
      "metadata": {
        "id": "JxrEgWv8D-Np"
      }
    },
    {
      "cell_type": "code",
      "source": [
        "from google.colab import drive\n",
        "drive.mount('/content/drive')"
      ],
      "metadata": {
        "colab": {
          "base_uri": "https://localhost:8080/"
        },
        "id": "S1E3FzDvCoNH",
        "outputId": "a3df74f2-df23-43b4-b697-ca3c47330c9f"
      },
      "execution_count": null,
      "outputs": [
        {
          "output_type": "stream",
          "name": "stdout",
          "text": [
            "Mounted at /content/drive\n"
          ]
        }
      ]
    },
    {
      "cell_type": "code",
      "source": [
        "names = ['index','review', 'sentiment', 'label']\n",
        "df = pd.read_csv('/content/drive/MyDrive/imdb/train_data.csv', sep=',', names=names, header=0)\n",
        "#df_val = pd.read_csv('val.csv', sep=',', names=names, header=0)\n",
        "#df=pd.concat((df_train, df_val))\n",
        "df.dropna(how='any', inplace=True)\n",
        "df.reset_index(drop=True, inplace=True)\n",
        "df[\"review\"] = df['review'].values.astype('U')\n",
        "X = df['review'].to_numpy()\n",
        "Y = df['label'].to_numpy()\n",
        "print(X.shape)"
      ],
      "metadata": {
        "colab": {
          "base_uri": "https://localhost:8080/"
        },
        "id": "SHkkuF-kC1KF",
        "outputId": "5076b666-de72-4a17-8c51-f168bab45f4d"
      },
      "execution_count": null,
      "outputs": [
        {
          "output_type": "stream",
          "name": "stdout",
          "text": [
            "(10000,)\n"
          ]
        }
      ]
    },
    {
      "cell_type": "code",
      "source": [
        "X_tr, X_val, Y_tr, Y_val = train_test_split(X, Y, test_size=0.25, random_state=0)"
      ],
      "metadata": {
        "id": "BjaLds2fDJDT"
      },
      "execution_count": null,
      "outputs": []
    },
    {
      "cell_type": "markdown",
      "source": [
        "# **VECTORIZING DATASET**"
      ],
      "metadata": {
        "id": "jF4FWwJDD3Ij"
      }
    },
    {
      "cell_type": "code",
      "source": [
        "MAX_FEATURES = 10000\n",
        "cv = CountVectorizer(max_features = MAX_FEATURES)\n",
        "cv.fit(X_tr)\n",
        "X_train = cv.transform(X_tr)\n",
        "X_train = X_train.todense()\n",
        "X_tr=X_train\n",
        "\n",
        "\n",
        "X_valid=cv.transform(X_val)\n",
        "X_valid=X_valid.todense()\n",
        "X_val=X_valid\n",
        "\n"
      ],
      "metadata": {
        "id": "RopEeuqjC869"
      },
      "execution_count": null,
      "outputs": []
    },
    {
      "cell_type": "markdown",
      "source": [
        "# **REMOVING OUTLIERS**"
      ],
      "metadata": {
        "id": "pZSRCheJECZV"
      }
    },
    {
      "cell_type": "code",
      "source": [
        "X_tr=np.array(X_tr)\n",
        "Y_tr=np.array(Y_tr)"
      ],
      "metadata": {
        "id": "TRhyMhyjCpHM"
      },
      "execution_count": null,
      "outputs": []
    },
    {
      "cell_type": "code",
      "source": [
        "clf_Iso = IsolationForest(random_state=np.random.RandomState(0),n_jobs = -1)\n",
        "clf_Iso.fit(X_tr)\n",
        "Y_Iso_Forest = clf_Iso.predict(X_tr)\n",
        "result = np.where(Y_Iso_Forest == -1)\n",
        "result = list(itertools.chain.from_iterable(result))"
      ],
      "metadata": {
        "id": "RgfWo5_rDnbq"
      },
      "execution_count": null,
      "outputs": []
    },
    {
      "cell_type": "code",
      "source": [
        "X_removed = np.delete(X_tr,result,axis = 0)\n",
        "if Y_tr is None:\n",
        "    X_train=X_removed\n",
        "else:\n",
        "    Y_removed = np.delete(Y_tr,result,axis = 0)\n",
        "X_tr=X_removed\n",
        "Y_tr=Y_removed"
      ],
      "metadata": {
        "id": "zHtJH4evDu_L"
      },
      "execution_count": null,
      "outputs": []
    },
    {
      "cell_type": "code",
      "source": [
        "print(X_tr.shape, Y_tr.shape)"
      ],
      "metadata": {
        "colab": {
          "base_uri": "https://localhost:8080/"
        },
        "id": "2zLTvxf-DyEQ",
        "outputId": "6f0baed4-f06d-4597-803a-601ac1ed8db5"
      },
      "execution_count": null,
      "outputs": [
        {
          "output_type": "stream",
          "name": "stdout",
          "text": [
            "(7500, 10000) (7500,)\n"
          ]
        }
      ]
    },
    {
      "cell_type": "code",
      "source": [
        "num_samples = X_tr.shape[0]\n",
        "num_features = X_tr.shape[1]\n",
        "X_tr = np.reshape(np.array(X_tr), (num_samples, num_features))"
      ],
      "metadata": {
        "id": "W7uR43aYD1e4"
      },
      "execution_count": null,
      "outputs": []
    },
    {
      "cell_type": "code",
      "source": [
        "C = 1 \n",
        "solver = 'sag' \n",
        "kf = KFold(n_splits=5)\n",
        "logistic = LogisticRegression(max_iter=500, C=C, solver=solver)\n",
        "acc_list = []\n",
        "# Doing cross validation testing\n",
        "for train_index, test_index in kf.split(X_tr):\n",
        "    X_train, X_test = X_tr[train_index], X_tr[test_index]\n",
        "    Y_train, Y_test = Y_tr[train_index], Y_tr[test_index]\n",
        "    logistic.fit(X_train, Y_train)\n",
        "    print(\"----Start Evaluating----\")\n",
        "    acc = logistic.score(X_test, Y_test)\n",
        "    acc_list.append(acc)\n",
        "    print(\"Testing Accuracy:\", acc)\n",
        "print(\"Mean testing accuracy:\", sum(acc_list) / len(acc_list))"
      ],
      "metadata": {
        "colab": {
          "base_uri": "https://localhost:8080/"
        },
        "id": "vF1AjsohEjxg",
        "outputId": "2539a5f4-343e-4f08-c716-3dfe5b2dbf57"
      },
      "execution_count": null,
      "outputs": [
        {
          "output_type": "stream",
          "name": "stderr",
          "text": [
            "/usr/local/lib/python3.7/dist-packages/sklearn/linear_model/_sag.py:354: ConvergenceWarning: The max_iter was reached which means the coef_ did not converge\n",
            "  ConvergenceWarning,\n"
          ]
        },
        {
          "output_type": "stream",
          "name": "stdout",
          "text": [
            "----Start Evaluating----\n",
            "Testing Accuracy: 0.8766666666666667\n"
          ]
        },
        {
          "output_type": "stream",
          "name": "stderr",
          "text": [
            "/usr/local/lib/python3.7/dist-packages/sklearn/linear_model/_sag.py:354: ConvergenceWarning: The max_iter was reached which means the coef_ did not converge\n",
            "  ConvergenceWarning,\n"
          ]
        },
        {
          "output_type": "stream",
          "name": "stdout",
          "text": [
            "----Start Evaluating----\n",
            "Testing Accuracy: 0.856\n"
          ]
        },
        {
          "output_type": "stream",
          "name": "stderr",
          "text": [
            "/usr/local/lib/python3.7/dist-packages/sklearn/linear_model/_sag.py:354: ConvergenceWarning: The max_iter was reached which means the coef_ did not converge\n",
            "  ConvergenceWarning,\n"
          ]
        },
        {
          "output_type": "stream",
          "name": "stdout",
          "text": [
            "----Start Evaluating----\n",
            "Testing Accuracy: 0.8613333333333333\n"
          ]
        },
        {
          "output_type": "stream",
          "name": "stderr",
          "text": [
            "/usr/local/lib/python3.7/dist-packages/sklearn/linear_model/_sag.py:354: ConvergenceWarning: The max_iter was reached which means the coef_ did not converge\n",
            "  ConvergenceWarning,\n"
          ]
        },
        {
          "output_type": "stream",
          "name": "stdout",
          "text": [
            "----Start Evaluating----\n",
            "Testing Accuracy: 0.8546666666666667\n"
          ]
        },
        {
          "output_type": "stream",
          "name": "stderr",
          "text": [
            "/usr/local/lib/python3.7/dist-packages/sklearn/linear_model/_sag.py:354: ConvergenceWarning: The max_iter was reached which means the coef_ did not converge\n",
            "  ConvergenceWarning,\n"
          ]
        },
        {
          "output_type": "stream",
          "name": "stdout",
          "text": [
            "----Start Evaluating----\n",
            "Testing Accuracy: 0.8533333333333334\n",
            "Mean testing accuracy: 0.8604\n"
          ]
        }
      ]
    },
    {
      "cell_type": "code",
      "source": [
        "acc_val = logistic.score(X_val, Y_val)\n",
        "print('Validation accuracy:', acc_val)"
      ],
      "metadata": {
        "colab": {
          "base_uri": "https://localhost:8080/"
        },
        "id": "_VdWThOFEzmN",
        "outputId": "1d27bfa0-75fa-4357-e90d-63fb4b6b7318"
      },
      "execution_count": null,
      "outputs": [
        {
          "output_type": "stream",
          "name": "stderr",
          "text": [
            "/usr/local/lib/python3.7/dist-packages/sklearn/utils/validation.py:598: FutureWarning: np.matrix usage is deprecated in 1.0 and will raise a TypeError in 1.2. Please convert to a numpy array with np.asarray. For more information see: https://numpy.org/doc/stable/reference/generated/numpy.matrix.html\n",
            "  FutureWarning,\n"
          ]
        },
        {
          "output_type": "stream",
          "name": "stdout",
          "text": [
            "Validation accuracy: 0.8572\n"
          ]
        }
      ]
    }
  ]
}
